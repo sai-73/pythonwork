{
 "cells": [
  {
   "cell_type": "code",
   "execution_count": null,
   "metadata": {},
   "outputs": [],
   "source": [
    "from random import randint\n",
    "from time import sleep\n",
    "rand2=randint(1,30)\n",
    "def p():\n",
    "    print(\"\\033c\")\n",
    "    for x in range(1,30,2):\n",
    "        rnd1=randint(1,rand2)\n",
    "        if x==1:\n",
    "            ch=\"s\"\n",
    "        elif rnd1%4==0:\n",
    "            ch=\"o\"\n",
    "        elif rnd1%3==0:\n",
    "            ch=\"i\"\n",
    "        else:\n",
    "            ch=\"*\"\n",
    "        print(\"{:^33}\".format(ch*x))\n",
    "    print(\"{:^33}\".format(\"|||\"))\n",
    "    print(\"{:^33}\".format(\"|||\"))\n",
    "    sleep(.75)\n",
    "while True:\n",
    "    p()"
   ]
  },
  {
   "cell_type": "code",
   "execution_count": 2,
   "metadata": {},
   "outputs": [
    {
     "data": {
      "image/png": "[encoded data removed]",
      "text/plain": [
       "<Figure size 432x288 with 1 Axes>"
      ]
     },
     "metadata": {},
     "output_type": "display_data"
    }
   ],
   "source": [
    "from matplotlib import pyplot as plt\n",
    "from matplotlib import style\n",
    "style.use(\"ggplot\")\n",
    "x=[2,3,6,4,7]\n",
    "y=[3,4,5,6,7]\n",
    "p=[1,2,3,4,5]\n",
    "s=[2,3,4,4,6]\n",
    "plt.title(\"graph\")\n",
    "plt.xlabel(\"hmm\")\n",
    "plt.ylabel(\"times\")\n",
    "plt.scatter(x,y,label=\"djhgfdr\",linewidth=4)\n",
    "plt.scatter(p,s,label=\"kjgfds\",linewidth=7)\n",
    "plt.legend()\n",
    "plt.show()"
   ]
  },
  {
   "cell_type": "markdown",
   "metadata": {},
   "source": [
    "# pandas\n",
    "- Data loading\n",
    "- prepare \n",
    "- manipulate\n",
    "- model\n",
    "- analyse\n",
    "\n",
    "## Pandas data structures\n",
    "- pandas series\n",
    "- pandas data frames\n",
    "\n",
    "### Pandas series\n",
    "- syntax:\n",
    "    - pd.series(data,index)\n",
    "\n",
    "### Data frame:\n",
    "- many ways for data frames\n",
    "    - using dictionatries\n",
    "    - using numpy\n",
    "    - using csv files\n",
    "    - using txt files"
   ]
  },
  {
   "cell_type": "code",
   "execution_count": 9,
   "metadata": {},
   "outputs": [
    {
     "data": {
      "text/plain": [
       "'0.25.1'"
      ]
     },
     "execution_count": 9,
     "metadata": {},
     "output_type": "execute_result"
    }
   ],
   "source": [
    "import pandas\n",
    "pandas.__version__\n"
   ]
  },
  {
   "cell_type": "code",
   "execution_count": 13,
   "metadata": {},
   "outputs": [
    {
     "name": "stdout",
     "output_type": "stream",
     "text": [
      "0    1\n",
      "1    2\n",
      "2    3\n",
      "3    4\n",
      "dtype: int64\n",
      "4\n"
     ]
    }
   ],
   "source": [
    "a=pandas.Series([1,2,3,4])\n",
    "print(a)\n",
    "print(a[3])"
   ]
  },
  {
   "cell_type": "code",
   "execution_count": 15,
   "metadata": {},
   "outputs": [
    {
     "name": "stdout",
     "output_type": "stream",
     "text": [
      "name      a\n",
      "marks    80\n",
      "dtype: object\n"
     ]
    }
   ],
   "source": [
    "s={'name':'a','marks':80}\n",
    "p=pandas.Series(s)\n",
    "print(p)"
   ]
  },
  {
   "cell_type": "code",
   "execution_count": null,
   "metadata": {},
   "outputs": [],
   "source": []
  }
 ],
 "metadata": {
  "kernelspec": {
   "display_name": "Python 3",
   "language": "python",
   "name": "python3"
  },
  "language_info": {
   "codemirror_mode": {
    "name": "ipython",
    "version": 3
   },
   "file_extension": ".py",
   "mimetype": "text/x-python",
   "name": "python",
   "nbconvert_exporter": "python",
   "pygments_lexer": "ipython3",
   "version": "3.7.4"
  }
 },
 "nbformat": 4,
 "nbformat_minor": 2
}
